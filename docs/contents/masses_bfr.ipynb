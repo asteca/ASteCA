{
 "cells": [
  {
   "cell_type": "markdown",
   "metadata": {},
   "source": [
    "(masses_bfr_ntbk)=\n",
    "\n",
    "# Masses and binary fraction\n",
    "\n",
    "This tutorial shows how we can use methods available in the [Synthetic](asteca.Synthetic) class to estimate for a given observed cluster:\n",
    "\n",
    "- The individual stellar masses and their probability of being binary systems,\n",
    "- the total binary fraction of the cluster, and \n",
    "- the different masses associated to the cluster\n",
    "\n",
    "as detailed in [Synthetic module](synthetic_mod). We start by loading the cluster file and a set of isochrones, and instantiating a synthetic object which we calibrate with the cluster's data:"
   ]
  },
  {
   "cell_type": "code",
   "execution_count": 49,
   "metadata": {
    "tags": [
     "hide-input"
    ]
   },
   "outputs": [
    {
     "name": "stdout",
     "output_type": "stream",
     "text": [
      "\n",
      "Instantiating cluster\n",
      "Columns read   : RA, DEC, Magnitude, e_mag, Color, e_color\n",
      "N_stars        : 2759\n",
      "N_clust_min    : 25\n",
      "N_clust_max    : 5000\n",
      "Cluster object generated\n",
      "\n",
      "Instantiating isochrones\n",
      "Model          : PARSEC\n",
      "N_files        : 1\n",
      "N_mets         : 3\n",
      "N_ages         : 11\n",
      "N_isochs       : 2000\n",
      "z    range     : [0.01, 0.02]\n",
      "loga range     : [7.0, 9.5]\n",
      "Magnitude      : Gmag\n",
      "Color          : G_BPmag-G_RPmag\n",
      "Isochrone object generated\n",
      "\n",
      "Instantiating synthetic\n",
      "Default params : {'met': 0.0152, 'loga': 8.0, 'alpha': 0.09, 'beta': 0.94, 'Rv': 3.1, 'DR': 0.0, 'Av': 0.2, 'dm': 9.0}\n",
      "Extinction law : CCMO\n",
      "Diff reddening : uniform\n",
      "IMF            : chabrier_2014\n",
      "Max init mass  : 10000\n",
      "Gamma dist     : D&K\n",
      "Random seed    : 457304\n",
      "Synthetic clusters object generated\n",
      "\n",
      "Calibrated observed cluster\n",
      "N_stars_obs    : 2759\n",
      "Max magnitude  : 19.00\n",
      "Error distribution loaded\n"
     ]
    }
   ],
   "source": [
    "import asteca\n",
    "import pandas as pd\n",
    "import numpy as np\n",
    "\n",
    "obs_df = pd.read_csv(\"../_static/cluster.csv\")\n",
    "\n",
    "# Load cluster file\n",
    "my_cluster = asteca.Cluster(\n",
    "    ra=obs_df[\"RA_ICRS\"],\n",
    "    dec=obs_df[\"DE_ICRS\"], \n",
    "    magnitude=obs_df[\"Gmag\"],\n",
    "    e_mag=obs_df[\"e_Gmag\"],\n",
    "    color=obs_df[\"BP-RP\"],\n",
    "    e_color=obs_df[\"e_BP-RP\"],\n",
    "    verbose=2\n",
    ")\n",
    "\n",
    "# Load isochrones\n",
    "isochs = asteca.Isochrones(\n",
    "    model='parsec',\n",
    "    isochs_path=\"../_static/parsec/\",\n",
    "    magnitude=\"Gmag\",\n",
    "    color=(\"G_BPmag\", \"G_RPmag\"),\n",
    "    magnitude_effl=6390.7,\n",
    "    color_effl=(5182.58, 7825.08),\n",
    "    verbose=2\n",
    ")\n",
    "\n",
    "# Create Synthetic cluster object\n",
    "synthcl = asteca.Synthetic(isochs, seed=457304, verbose=2)\n",
    "\n",
    "# Calibrate the `synthcl` object\n",
    "synthcl.calibrate(my_cluster)"
   ]
  },
  {
   "cell_type": "markdown",
   "metadata": {},
   "source": [
    "For all three analyses mentioned above, the first step is to call the [get_models()](asteca.Synthetic.get_models) method. This method requires two arguments: `model` which is a dictionary of parameters to be fitted and a `model_std` dictionary which contains the uncertainties (standard deviations) associated to each parameter in the `model` dictionary. For example:"
   ]
  },
  {
   "cell_type": "code",
   "execution_count": 50,
   "metadata": {},
   "outputs": [
    {
     "name": "stdout",
     "output_type": "stream",
     "text": [
      "\n",
      "Generate synthetic models\n",
      "N_models       : 200\n",
      "Attributes stored in Synthetic object\n"
     ]
    }
   ],
   "source": [
    "# Values for the fundamental parameters associated to the observed cluster\n",
    "model = {\"met\": 0.015, \"loga\": 8., \"dm\": 8., \"Av\": 0.05}\n",
    "\n",
    "# Uncertainties for each fundamental parameter\n",
    "model_std = {\"met\": 0.001, \"loga\": 0.2, \"dm\": 0.2, \"Av\": 0.03}\n",
    "\n",
    "# Call the method\n",
    "synthcl.get_models(model, model_std)"
   ]
  },
  {
   "cell_type": "markdown",
   "metadata": {},
   "source": [
    "```{note}\n",
    "Notice that some of the parameters in `model_std` have STDDEV values of `0.0`. This means that these parameters are fixed to the values given in the `model` dictionary.\n",
    "```"
   ]
  },
  {
   "cell_type": "markdown",
   "metadata": {},
   "source": [
    "This method will store in the `synthcl` object a number of synthetic clusters, sampled from a normal distribution centered on `model` values with STDDEVs taken from the `model_std` values.\n",
    "\n",
    "After calling this method, the individual stellar masses and binarity, cluster total mass and cluster total binarity fraction can be estimated as described in [Synthetic module](synthetic_mod) and in the examples shown in the following sub-sections."
   ]
  },
  {
   "cell_type": "markdown",
   "metadata": {},
   "source": [
    "## Stellar masses\n",
    "\n",
    "To assign individual primary and secondary masses and probability of belonging to a binary system for each observed star in your cluster, we use the the [stellar_masses()](asteca.Synthetic.stellar_masses) method:"
   ]
  },
  {
   "cell_type": "code",
   "execution_count": 51,
   "metadata": {},
   "outputs": [
    {
     "name": "stdout",
     "output_type": "stream",
     "text": [
      "\n",
      "Stellar masses and binary probabilities estimated\n"
     ]
    },
    {
     "name": "stderr",
     "output_type": "stream",
     "text": [
      "/home/gabriel/Github/ASteCA/ASteCA/asteca/asteca/synthetic.py:569: UserWarning: \n",
      "N=36 stars found with no valid photometric data. These will be assigned 'nan' values\n",
      "for masses and binarity probability\n",
      "  warnings.warn(\n"
     ]
    }
   ],
   "source": [
    "df_masses_bprob = synthcl.stellar_masses()"
   ]
  },
  {
   "cell_type": "markdown",
   "metadata": {},
   "source": [
    "The warning indicates that some observed stars contain invalid photometric data and thus could not be assigned masses.\n",
    "\n",
    "The returned variable `df_masses_bprob` is a dictionary containing the columns `m1, m1_std, m2, m2_std, binar_prob`. We can print the resulting dictionary as a pandas DataFrame for better visualization:"
   ]
  },
  {
   "cell_type": "code",
   "execution_count": 52,
   "metadata": {},
   "outputs": [
    {
     "data": {
      "text/html": [
       "<div>\n",
       "<style scoped>\n",
       "    .dataframe tbody tr th:only-of-type {\n",
       "        vertical-align: middle;\n",
       "    }\n",
       "\n",
       "    .dataframe tbody tr th {\n",
       "        vertical-align: top;\n",
       "    }\n",
       "\n",
       "    .dataframe thead th {\n",
       "        text-align: right;\n",
       "    }\n",
       "</style>\n",
       "<table border=\"1\" class=\"dataframe\">\n",
       "  <thead>\n",
       "    <tr style=\"text-align: right;\">\n",
       "      <th></th>\n",
       "      <th>m1</th>\n",
       "      <th>m1_std</th>\n",
       "      <th>m2</th>\n",
       "      <th>m2_std</th>\n",
       "      <th>binar_prob</th>\n",
       "    </tr>\n",
       "  </thead>\n",
       "  <tbody>\n",
       "    <tr>\n",
       "      <th>0</th>\n",
       "      <td>0.472007</td>\n",
       "      <td>0.035654</td>\n",
       "      <td>0.276752</td>\n",
       "      <td>0.067022</td>\n",
       "      <td>0.385</td>\n",
       "    </tr>\n",
       "    <tr>\n",
       "      <th>1</th>\n",
       "      <td>1.250587</td>\n",
       "      <td>0.080658</td>\n",
       "      <td>0.829686</td>\n",
       "      <td>0.247813</td>\n",
       "      <td>0.895</td>\n",
       "    </tr>\n",
       "    <tr>\n",
       "      <th>2</th>\n",
       "      <td>0.546803</td>\n",
       "      <td>0.036666</td>\n",
       "      <td>0.298253</td>\n",
       "      <td>0.106051</td>\n",
       "      <td>0.270</td>\n",
       "    </tr>\n",
       "    <tr>\n",
       "      <th>3</th>\n",
       "      <td>0.965372</td>\n",
       "      <td>0.058586</td>\n",
       "      <td>0.557101</td>\n",
       "      <td>0.191725</td>\n",
       "      <td>0.520</td>\n",
       "    </tr>\n",
       "    <tr>\n",
       "      <th>4</th>\n",
       "      <td>0.721520</td>\n",
       "      <td>0.039565</td>\n",
       "      <td>0.326446</td>\n",
       "      <td>0.129088</td>\n",
       "      <td>0.255</td>\n",
       "    </tr>\n",
       "    <tr>\n",
       "      <th>...</th>\n",
       "      <td>...</td>\n",
       "      <td>...</td>\n",
       "      <td>...</td>\n",
       "      <td>...</td>\n",
       "      <td>...</td>\n",
       "    </tr>\n",
       "    <tr>\n",
       "      <th>2754</th>\n",
       "      <td>0.300883</td>\n",
       "      <td>0.034007</td>\n",
       "      <td>0.181700</td>\n",
       "      <td>0.050482</td>\n",
       "      <td>0.810</td>\n",
       "    </tr>\n",
       "    <tr>\n",
       "      <th>2755</th>\n",
       "      <td>NaN</td>\n",
       "      <td>NaN</td>\n",
       "      <td>NaN</td>\n",
       "      <td>NaN</td>\n",
       "      <td>NaN</td>\n",
       "    </tr>\n",
       "    <tr>\n",
       "      <th>2756</th>\n",
       "      <td>0.602637</td>\n",
       "      <td>0.037285</td>\n",
       "      <td>NaN</td>\n",
       "      <td>NaN</td>\n",
       "      <td>0.000</td>\n",
       "    </tr>\n",
       "    <tr>\n",
       "      <th>2757</th>\n",
       "      <td>0.532603</td>\n",
       "      <td>0.036181</td>\n",
       "      <td>0.191246</td>\n",
       "      <td>0.000000</td>\n",
       "      <td>0.005</td>\n",
       "    </tr>\n",
       "    <tr>\n",
       "      <th>2758</th>\n",
       "      <td>0.312377</td>\n",
       "      <td>0.037675</td>\n",
       "      <td>NaN</td>\n",
       "      <td>NaN</td>\n",
       "      <td>0.000</td>\n",
       "    </tr>\n",
       "  </tbody>\n",
       "</table>\n",
       "<p>2759 rows × 5 columns</p>\n",
       "</div>"
      ],
      "text/plain": [
       "            m1    m1_std        m2    m2_std  binar_prob\n",
       "0     0.472007  0.035654  0.276752  0.067022       0.385\n",
       "1     1.250587  0.080658  0.829686  0.247813       0.895\n",
       "2     0.546803  0.036666  0.298253  0.106051       0.270\n",
       "3     0.965372  0.058586  0.557101  0.191725       0.520\n",
       "4     0.721520  0.039565  0.326446  0.129088       0.255\n",
       "...        ...       ...       ...       ...         ...\n",
       "2754  0.300883  0.034007  0.181700  0.050482       0.810\n",
       "2755       NaN       NaN       NaN       NaN         NaN\n",
       "2756  0.602637  0.037285       NaN       NaN       0.000\n",
       "2757  0.532603  0.036181  0.191246  0.000000       0.005\n",
       "2758  0.312377  0.037675       NaN       NaN       0.000\n",
       "\n",
       "[2759 rows x 5 columns]"
      ]
     },
     "execution_count": 52,
     "metadata": {},
     "output_type": "execute_result"
    }
   ],
   "source": [
    "# Convert dictionary to pandas DataFrame for prettier printing\n",
    "df_masses_bprob = pd.DataFrame(df_masses_bprob)\n",
    "\n",
    "df_masses_bprob"
   ]
  },
  {
   "cell_type": "markdown",
   "metadata": {},
   "source": [
    "These columns represent, for each observed star in the cluster under analysis, estimates for:\n",
    "\n",
    "- `m1`: primary mass\n",
    "- `m1_std`: uncertainty of the primary mass\n",
    "- `m2`: secondary mass (under the assumption that this star is part of a binary system)\n",
    "- `m2_std`: uncertainty of the secondary mass\n",
    "- `binar_prob`: probability of being a binary system \n",
    "\n",
    "If an observed star has `binar_prob=0`, i.e. a zero probability of being a binary system, then the mass value for its secondary star `m2` is a `NaN` value as no secondary star could be assigned to it. If any observed star contains invalid photometric data, they will be assigned `NaN` values for masses and binarity probability.\n",
    "\n",
    "For example, we can extract the binary systems from the above dictionary by selecting a probability cut at `binar_prob=0.5` so that observed stars with larger probability values are described as binary systems:"
   ]
  },
  {
   "cell_type": "code",
   "execution_count": 53,
   "metadata": {},
   "outputs": [
    {
     "data": {
      "text/html": [
       "<div>\n",
       "<style scoped>\n",
       "    .dataframe tbody tr th:only-of-type {\n",
       "        vertical-align: middle;\n",
       "    }\n",
       "\n",
       "    .dataframe tbody tr th {\n",
       "        vertical-align: top;\n",
       "    }\n",
       "\n",
       "    .dataframe thead th {\n",
       "        text-align: right;\n",
       "    }\n",
       "</style>\n",
       "<table border=\"1\" class=\"dataframe\">\n",
       "  <thead>\n",
       "    <tr style=\"text-align: right;\">\n",
       "      <th></th>\n",
       "      <th>m1</th>\n",
       "      <th>m1_std</th>\n",
       "      <th>m2</th>\n",
       "      <th>m2_std</th>\n",
       "      <th>binar_prob</th>\n",
       "    </tr>\n",
       "  </thead>\n",
       "  <tbody>\n",
       "    <tr>\n",
       "      <th>1</th>\n",
       "      <td>1.250587</td>\n",
       "      <td>0.080658</td>\n",
       "      <td>0.829686</td>\n",
       "      <td>0.247813</td>\n",
       "      <td>0.895</td>\n",
       "    </tr>\n",
       "    <tr>\n",
       "      <th>3</th>\n",
       "      <td>0.965372</td>\n",
       "      <td>0.058586</td>\n",
       "      <td>0.557101</td>\n",
       "      <td>0.191725</td>\n",
       "      <td>0.520</td>\n",
       "    </tr>\n",
       "    <tr>\n",
       "      <th>7</th>\n",
       "      <td>1.760621</td>\n",
       "      <td>0.124049</td>\n",
       "      <td>1.023296</td>\n",
       "      <td>0.460186</td>\n",
       "      <td>0.975</td>\n",
       "    </tr>\n",
       "    <tr>\n",
       "      <th>9</th>\n",
       "      <td>1.968723</td>\n",
       "      <td>0.159945</td>\n",
       "      <td>1.225065</td>\n",
       "      <td>0.485423</td>\n",
       "      <td>0.995</td>\n",
       "    </tr>\n",
       "    <tr>\n",
       "      <th>10</th>\n",
       "      <td>1.063796</td>\n",
       "      <td>0.065703</td>\n",
       "      <td>0.787026</td>\n",
       "      <td>0.203931</td>\n",
       "      <td>0.780</td>\n",
       "    </tr>\n",
       "    <tr>\n",
       "      <th>...</th>\n",
       "      <td>...</td>\n",
       "      <td>...</td>\n",
       "      <td>...</td>\n",
       "      <td>...</td>\n",
       "      <td>...</td>\n",
       "    </tr>\n",
       "    <tr>\n",
       "      <th>2748</th>\n",
       "      <td>0.461618</td>\n",
       "      <td>0.037505</td>\n",
       "      <td>0.295645</td>\n",
       "      <td>0.067159</td>\n",
       "      <td>0.635</td>\n",
       "    </tr>\n",
       "    <tr>\n",
       "      <th>2749</th>\n",
       "      <td>0.306776</td>\n",
       "      <td>0.033063</td>\n",
       "      <td>0.196440</td>\n",
       "      <td>0.047933</td>\n",
       "      <td>0.955</td>\n",
       "    </tr>\n",
       "    <tr>\n",
       "      <th>2752</th>\n",
       "      <td>0.955700</td>\n",
       "      <td>0.058306</td>\n",
       "      <td>0.574409</td>\n",
       "      <td>0.192121</td>\n",
       "      <td>0.635</td>\n",
       "    </tr>\n",
       "    <tr>\n",
       "      <th>2753</th>\n",
       "      <td>0.282646</td>\n",
       "      <td>0.028868</td>\n",
       "      <td>0.150173</td>\n",
       "      <td>0.041318</td>\n",
       "      <td>0.670</td>\n",
       "    </tr>\n",
       "    <tr>\n",
       "      <th>2754</th>\n",
       "      <td>0.300883</td>\n",
       "      <td>0.034007</td>\n",
       "      <td>0.181700</td>\n",
       "      <td>0.050482</td>\n",
       "      <td>0.810</td>\n",
       "    </tr>\n",
       "  </tbody>\n",
       "</table>\n",
       "<p>1250 rows × 5 columns</p>\n",
       "</div>"
      ],
      "text/plain": [
       "            m1    m1_std        m2    m2_std  binar_prob\n",
       "1     1.250587  0.080658  0.829686  0.247813       0.895\n",
       "3     0.965372  0.058586  0.557101  0.191725       0.520\n",
       "7     1.760621  0.124049  1.023296  0.460186       0.975\n",
       "9     1.968723  0.159945  1.225065  0.485423       0.995\n",
       "10    1.063796  0.065703  0.787026  0.203931       0.780\n",
       "...        ...       ...       ...       ...         ...\n",
       "2748  0.461618  0.037505  0.295645  0.067159       0.635\n",
       "2749  0.306776  0.033063  0.196440  0.047933       0.955\n",
       "2752  0.955700  0.058306  0.574409  0.192121       0.635\n",
       "2753  0.282646  0.028868  0.150173  0.041318       0.670\n",
       "2754  0.300883  0.034007  0.181700  0.050482       0.810\n",
       "\n",
       "[1250 rows x 5 columns]"
      ]
     },
     "execution_count": 53,
     "metadata": {},
     "output_type": "execute_result"
    }
   ],
   "source": [
    "# Mask to identify binary systems given a probability cut value\n",
    "msk = df_masses_bprob['binar_prob'] > 0.5\n",
    "\n",
    "# Show only observed stars identified as binary systems\n",
    "df_masses_bprob[msk]"
   ]
  },
  {
   "cell_type": "markdown",
   "metadata": {},
   "source": [
    "We can also show only single systems, were we remove the columns associated to the secondary masses as they serve no purpose for single systems:"
   ]
  },
  {
   "cell_type": "code",
   "execution_count": 62,
   "metadata": {},
   "outputs": [
    {
     "data": {
      "text/html": [
       "<div>\n",
       "<style scoped>\n",
       "    .dataframe tbody tr th:only-of-type {\n",
       "        vertical-align: middle;\n",
       "    }\n",
       "\n",
       "    .dataframe tbody tr th {\n",
       "        vertical-align: top;\n",
       "    }\n",
       "\n",
       "    .dataframe thead th {\n",
       "        text-align: right;\n",
       "    }\n",
       "</style>\n",
       "<table border=\"1\" class=\"dataframe\">\n",
       "  <thead>\n",
       "    <tr style=\"text-align: right;\">\n",
       "      <th></th>\n",
       "      <th>m1</th>\n",
       "      <th>m1_std</th>\n",
       "      <th>binar_prob</th>\n",
       "    </tr>\n",
       "  </thead>\n",
       "  <tbody>\n",
       "    <tr>\n",
       "      <th>0</th>\n",
       "      <td>0.472007</td>\n",
       "      <td>0.035654</td>\n",
       "      <td>0.385</td>\n",
       "    </tr>\n",
       "    <tr>\n",
       "      <th>2</th>\n",
       "      <td>0.546803</td>\n",
       "      <td>0.036666</td>\n",
       "      <td>0.270</td>\n",
       "    </tr>\n",
       "    <tr>\n",
       "      <th>4</th>\n",
       "      <td>0.721520</td>\n",
       "      <td>0.039565</td>\n",
       "      <td>0.255</td>\n",
       "    </tr>\n",
       "    <tr>\n",
       "      <th>5</th>\n",
       "      <td>0.793219</td>\n",
       "      <td>0.047204</td>\n",
       "      <td>0.325</td>\n",
       "    </tr>\n",
       "    <tr>\n",
       "      <th>6</th>\n",
       "      <td>0.478283</td>\n",
       "      <td>0.033454</td>\n",
       "      <td>0.110</td>\n",
       "    </tr>\n",
       "    <tr>\n",
       "      <th>...</th>\n",
       "      <td>...</td>\n",
       "      <td>...</td>\n",
       "      <td>...</td>\n",
       "    </tr>\n",
       "    <tr>\n",
       "      <th>2751</th>\n",
       "      <td>0.390695</td>\n",
       "      <td>0.033647</td>\n",
       "      <td>0.190</td>\n",
       "    </tr>\n",
       "    <tr>\n",
       "      <th>2755</th>\n",
       "      <td>NaN</td>\n",
       "      <td>NaN</td>\n",
       "      <td>NaN</td>\n",
       "    </tr>\n",
       "    <tr>\n",
       "      <th>2756</th>\n",
       "      <td>0.602637</td>\n",
       "      <td>0.037285</td>\n",
       "      <td>0.000</td>\n",
       "    </tr>\n",
       "    <tr>\n",
       "      <th>2757</th>\n",
       "      <td>0.532603</td>\n",
       "      <td>0.036181</td>\n",
       "      <td>0.005</td>\n",
       "    </tr>\n",
       "    <tr>\n",
       "      <th>2758</th>\n",
       "      <td>0.312377</td>\n",
       "      <td>0.037675</td>\n",
       "      <td>0.000</td>\n",
       "    </tr>\n",
       "  </tbody>\n",
       "</table>\n",
       "<p>1509 rows × 3 columns</p>\n",
       "</div>"
      ],
      "text/plain": [
       "            m1    m1_std  binar_prob\n",
       "0     0.472007  0.035654       0.385\n",
       "2     0.546803  0.036666       0.270\n",
       "4     0.721520  0.039565       0.255\n",
       "5     0.793219  0.047204       0.325\n",
       "6     0.478283  0.033454       0.110\n",
       "...        ...       ...         ...\n",
       "2751  0.390695  0.033647       0.190\n",
       "2755       NaN       NaN         NaN\n",
       "2756  0.602637  0.037285       0.000\n",
       "2757  0.532603  0.036181       0.005\n",
       "2758  0.312377  0.037675       0.000\n",
       "\n",
       "[1509 rows x 3 columns]"
      ]
     },
     "execution_count": 62,
     "metadata": {},
     "output_type": "execute_result"
    }
   ],
   "source": [
    "# Show only observed stars identified as single systems\n",
    "df_masses_bprob[['m1', 'm1_std', 'binar_prob']][~msk]"
   ]
  },
  {
   "cell_type": "markdown",
   "metadata": {},
   "source": [
    "Finally, we can visualize the identified single and binary systems in a simple CMD:"
   ]
  },
  {
   "cell_type": "code",
   "execution_count": 64,
   "metadata": {
    "tags": [
     "hide-input"
    ]
   },
   "outputs": [
    {
     "data": {
      "image/png": "[encoded data removed]",
      "text/plain": [
       "<Figure size 640x480 with 1 Axes>"
      ]
     },
     "metadata": {},
     "output_type": "display_data"
    }
   ],
   "source": [
    "import matplotlib.pyplot as plt\n",
    "plt.scatter(my_cluster.color[~msk], my_cluster.magnitude[~msk], alpha=.2, label='Single systems')\n",
    "plt.scatter(my_cluster.color[msk], my_cluster.magnitude[msk], alpha=.2, label='Binary systems')\n",
    "plt.legend()\n",
    "plt.gca().invert_yaxis();"
   ]
  },
  {
   "cell_type": "markdown",
   "metadata": {},
   "source": [
    "## Binary fraction\n",
    "\n",
    "As detailed in [Synthetic module](synthetic_mod), there is no *binary fraction* parameter than can be fitted using the synthetic clusters (as this is handled through the `alpha, beta` parameters). This parameter thus needs to be estimated separately via the [binary_fraction()](asteca.Synthetic.binary_fraction) method as follows:"
   ]
  },
  {
   "cell_type": "code",
   "execution_count": 15,
   "metadata": {},
   "outputs": [
    {
     "name": "stdout",
     "output_type": "stream",
     "text": [
      "Binary fraction: 0.446 +/- 0.007\n"
     ]
    }
   ],
   "source": [
    "# Obtain distribution of the total binary fraction\n",
    "bfr_med, bfr_std = synthcl.binary_fraction(df_masses_bprob['binar_prob'])"
   ]
  },
  {
   "cell_type": "markdown",
   "metadata": {},
   "source": [
    "The only argument required for this method is the distribution of binary probabilities `df_masses_bprob['binar_prob']` obtained in the previous section via the [stellar_masses()](asteca.Synthetic.stellar_masses) method.\n",
    "\n",
    "The `bfr_med, bfr_std`  variables will store the median and STDDEV values for the total binary fraction estimate for the cluster."
   ]
  },
  {
   "cell_type": "markdown",
   "metadata": {},
   "source": [
    "## Cluster mass\n",
    "\n",
    "As explained in the [Mass and binarity](synthetic_mod) section, **ASteCA** estimates several different masses associated to an observed cluster. These are:\n",
    "\n",
    "- {math}`M_{init}`: total initial mass (at the moment of cluster's birth)\n",
    "- {math}`M_{actual}`: actual mass of the cluster (even the low mass portion we do not observe)\n",
    "- {math}`M_{obs}`: observed mass (sum of individual stellar masses)\n",
    "- {math}`M_{phot}`: mass **unobserved** due to photometric effects (i.e: the low mass stars beyond the maximum magnitude cut)\n",
    "- {math}`M_{evol}`: mass **lost** via stellar evolution\n",
    "- {math}`M_{dyn}`: mass **lost** through dynamical effects (or *dissolution*)\n",
    "\n",
    "This process is performed via the [cluster_masses()](asteca.Synthetic.cluster_masses) method:"
   ]
  },
  {
   "cell_type": "code",
   "execution_count": 16,
   "metadata": {},
   "outputs": [
    {
     "name": "stdout",
     "output_type": "stream",
     "text": [
      "\n",
      "Mass values estimated\n"
     ]
    }
   ],
   "source": [
    "masses_dict = synthcl.cluster_masses()"
   ]
  },
  {
   "cell_type": "markdown",
   "metadata": {},
   "source": [
    "The returned dictionary contains arrays with the distributions of masses for each mass described above. Their median and STDDEV values can be extracted for example with:"
   ]
  },
  {
   "cell_type": "code",
   "execution_count": 17,
   "metadata": {},
   "outputs": [
    {
     "name": "stdout",
     "output_type": "stream",
     "text": [
      "M_init  : 4312+/-696\n",
      "M_actual: 3167+/-327\n",
      "M_obs   : 2795+/-180\n",
      "M_phot  : 380+/-160\n",
      "M_evol  : 867+/-240\n",
      "M_dyn   : 307+/-188\n"
     ]
    }
   ],
   "source": [
    "# Print the median mass values and their STDDEVs\n",
    "for k, arr in masses_dict.items():\n",
    "    print(\"{:<8}: {:.0f}+/-{:.0f}\".format(k, np.median(arr), np.std(arr)))"
   ]
  }
 ],
 "metadata": {
  "execution": {
   "timeout": 90
  },
  "kernelspec": {
   "display_name": "Python 3 (ipykernel)",
   "language": "python",
   "name": "python3"
  },
  "language_info": {
   "codemirror_mode": {
    "name": "ipython",
    "version": 3
   },
   "file_extension": ".py",
   "mimetype": "text/x-python",
   "name": "python",
   "nbconvert_exporter": "python",
   "pygments_lexer": "ipython3",
   "version": "3.11.11"
  }
 },
 "nbformat": 4,
 "nbformat_minor": 4
}
