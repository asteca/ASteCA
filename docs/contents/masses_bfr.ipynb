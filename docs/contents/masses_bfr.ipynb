{
 "cells": [
  {
   "cell_type": "markdown",
   "metadata": {},
   "source": [
    "(masses_bfr_ntbk)=\n",
    "\n",
    "# Masses and binary fraction\n",
    "\n",
    "This tutorial shows how we can use methods available in the [Synthetic](asteca.Synthetic) class to estimate for a given observed cluster:\n",
    "\n",
    "- The individual stellar masses and their probability of being binary systems,\n",
    "- the total binary fraction of the cluster, and \n",
    "- the different masses associated to the cluster\n",
    "\n",
    "We start by loading the cluster file and a set of isochrones, and instantiating a synthetic object which we calibrate with the cluster's data:"
   ]
  },
  {
   "cell_type": "code",
   "execution_count": 5,
   "metadata": {
    "tags": [
     "hide-input"
    ]
   },
   "outputs": [
    {
     "name": "stdout",
     "output_type": "stream",
     "text": [
      "\n",
      "Instantiating cluster...\n",
      "Columns read   : RA, DEC, Magnitude, e_mag, Color, e_color\n",
      "N_stars        : 2759\n",
      "N_clust_min    : 25\n",
      "N_clust_max    : 5000\n",
      "Cluster object generated\n",
      "\n",
      "Instantiating isochrones...\n",
      "Model          : PARSEC\n",
      "N_files        : 1\n",
      "N_mets         : 3\n",
      "N_ages         : 11\n",
      "N_isochs       : 2000\n",
      "z    range     : [0.01, 0.02]\n",
      "loga range     : [7.0, 9.5]\n",
      "Magnitude      : Gmag\n",
      "Color          : G_BPmag-G_RPmag\n",
      "Isochrone object generated\n",
      "\n",
      "Instantiating synthetic...\n",
      "Default params : {'met': 0.0152, 'loga': 8.0, 'alpha': 0.09, 'beta': 0.94, 'Rv': 3.1, 'DR': 0.0, 'Av': 0.2, 'dm': 9.0}\n",
      "Extinction law : CCMO\n",
      "Diff reddening : uniform\n",
      "IMF            : chabrier_2014\n",
      "Max init mass  : 10000\n",
      "Gamma dist     : D&K\n",
      "Random seed    : 457304\n",
      "Synthetic clusters object generated\n",
      "N_stars_obs    : 2759\n",
      "Max magnitude  : 19.00\n",
      "Error distribution loaded\n"
     ]
    }
   ],
   "source": [
    "import asteca\n",
    "import pandas as pd\n",
    "import numpy as np\n",
    "\n",
    "obs_df = pd.read_csv(\"../_static/cluster.csv\")\n",
    "\n",
    "# Load cluster file\n",
    "my_cluster = asteca.Cluster(\n",
    "    ra=obs_df[\"RA_ICRS\"],\n",
    "    dec=obs_df[\"DE_ICRS\"], \n",
    "    magnitude=obs_df[\"Gmag\"],\n",
    "    e_mag=obs_df[\"e_Gmag\"],\n",
    "    color=obs_df[\"BP-RP\"],\n",
    "    e_color=obs_df[\"e_BP-RP\"],\n",
    "    verbose=2\n",
    ")\n",
    "\n",
    "# Load isochrones\n",
    "isochs = asteca.Isochrones(\n",
    "    model='parsec',\n",
    "    isochs_path=\"../_static/parsec/\",\n",
    "    magnitude=\"Gmag\",\n",
    "    color=(\"G_BPmag\", \"G_RPmag\"),\n",
    "    magnitude_effl=6390.7,\n",
    "    color_effl=(5182.58, 7825.08),\n",
    "    verbose=2\n",
    ")\n",
    "\n",
    "# Create Synthetic cluster object\n",
    "synthcl = asteca.Synthetic(isochs, seed=457304, verbose=2)\n",
    "\n",
    "# Calibrate the `synthcl` object\n",
    "synthcl.calibrate(my_cluster)"
   ]
  },
  {
   "cell_type": "markdown",
   "metadata": {},
   "source": [
    "For all three analyses mentioned above, the first step is to call the [get_models()](asteca.Synthetic.get_models) method. This method requires two arguments: `model` which is a dictionary of parameters to be fitted and a `model_std` dictionary which contains the uncertainties (standard deviations) associated to each parameter in the `model` dictionary. For example:"
   ]
  },
  {
   "cell_type": "code",
   "execution_count": 12,
   "metadata": {},
   "outputs": [
    {
     "name": "stdout",
     "output_type": "stream",
     "text": [
      "\n",
      "Generate synthetic models...\n",
      "N_models       : 200\n",
      "Attributes stored in Synthetic object\n"
     ]
    }
   ],
   "source": [
    "# Values for the fundamental parameters associated to the observed cluster\n",
    "model = {\"met\": 0.015, \"loga\": 8., \"dm\": 8., \"Av\": 0.05}\n",
    "\n",
    "# Uncertainties for each fundamental parameter\n",
    "model_std = {\"met\": 0.001, \"loga\": 0.2, \"dm\": 0.2, \"Av\": 0.03}\n",
    "\n",
    "# Call the method\n",
    "synthcl.get_models(model, model_std)"
   ]
  },
  {
   "cell_type": "markdown",
   "metadata": {},
   "source": [
    "```{note}\n",
    "Notice that some of the parameters in `model_std` have STDDEV values of `0.0`. This means that these parameters are fixed to the values given in the `model` dictionary.\n",
    "```"
   ]
  },
  {
   "cell_type": "markdown",
   "metadata": {},
   "source": [
    "This method will store in the `synthcl` object a number of synthetic clusters, sampled from a normal distribution centered on `model` values with STDDEVs taken from the `model_std` values. By default `200` models are generated, which can be changed via the `N_models` argument of the method.\n",
    "\n",
    "After calling this method, the individual stellar masses and binarity, cluster total mass and cluster total binarity fraction can be estimated as shown in the following sub-sections."
   ]
  },
  {
   "cell_type": "markdown",
   "metadata": {},
   "source": [
    "## Stellar masses and binarity\n",
    "\n",
    "An estimation of the observed stars individual masses and their probability of belonging to a binary system can be achieved via the [stellar_masses()](asteca.Synthetic.stellar_masses) method:"
   ]
  },
  {
   "cell_type": "code",
   "execution_count": 13,
   "metadata": {},
   "outputs": [
    {
     "name": "stdout",
     "output_type": "stream",
     "text": [
      "\n",
      "Stellar masses and binary probabilities estimated\n",
      "            m1    m1_std        m2    m2_std  binar_prob\n",
      "0     0.445917  0.051379  0.250017  0.107283       0.370\n",
      "1     1.231061  0.167481  0.736810  0.288590       0.860\n",
      "2     0.533227  0.050551  0.310715  0.093626       0.280\n",
      "3     0.933417  0.116045  0.425366  0.148135       0.465\n",
      "4     0.700783  0.061533  0.342416  0.127329       0.130\n",
      "...        ...       ...       ...       ...         ...\n",
      "2754  0.267549  0.034917  0.187424  0.062576       0.740\n",
      "2755       NaN       NaN       NaN       NaN         NaN\n",
      "2756  0.583159  0.053920  0.248445  0.064690       0.045\n",
      "2757  0.516960  0.053511  0.212998  0.000000       0.005\n",
      "2758  0.293646  0.050600       NaN       NaN       0.000\n",
      "\n",
      "[2759 rows x 5 columns]\n"
     ]
    },
    {
     "name": "stderr",
     "output_type": "stream",
     "text": [
      "/home/gabriel/Github/ASteCA/ASteCA/asteca/asteca/synthetic.py:559: UserWarning: \n",
      "N=36 stars found with no valid photometric data. These will be assigned 'nan' values\n",
      "for masses and binarity probability\n",
      "  warnings.warn(\n"
     ]
    }
   ],
   "source": [
    "df_masses_bprob = synthcl.stellar_masses()\n",
    "\n",
    "# Convert to pandas DataFrame for prettier printing\n",
    "print(pd.DataFrame(df_masses_bprob))"
   ]
  },
  {
   "cell_type": "markdown",
   "metadata": {},
   "source": [
    "The returned variable `df_masses_bprob` is a dictionary containing the columns `m1, m1_std, m2, m2_std, binar_prob`. These columns represent, for each observed star in the cluster under analysis, estimates for:\n",
    "\n",
    "- `m1`: primary mass\n",
    "- `m1_std`: uncertainty of the primary mass\n",
    "- `m2`: secondary mass (under the assumption that this star belongs to a binary\n",
    "  system)\n",
    "- `m2_std`: uncertainty of the secondary mass\n",
    "- `binar_prob`: probability of being a binary system \n",
    "\n",
    "If an observed star has `binar_prob=0`, i.e. a zero probability of being a binary system, then the mass value for its secondary star `m2` is a `NaN` value as no secondary star could be assigned to it. If any observed star contains invalid photometric data,  they will be assigned `NaN` values for masses and binarity probability."
   ]
  },
  {
   "cell_type": "markdown",
   "metadata": {},
   "source": [
    "## Total binary fraction\n",
    "\n",
    "Since the fraction of synthetic binary systems is handled through the `alpha, beta` parameters, there is no *binary fraction* parameter than can be fitted using the synthetic clusters. This parameter needs to be estimated separately via the [binary_fraction()](asteca.Synthetic.binary_fraction) method as follows:"
   ]
  },
  {
   "cell_type": "code",
   "execution_count": 15,
   "metadata": {},
   "outputs": [
    {
     "name": "stdout",
     "output_type": "stream",
     "text": [
      "Binary fraction: 0.446 +/- 0.007\n"
     ]
    }
   ],
   "source": [
    "# Obtain distribution of the total binary fraction\n",
    "bfr_med, bfr_std = synthcl.binary_fraction(df_masses_bprob['binar_prob'])"
   ]
  },
  {
   "cell_type": "markdown",
   "metadata": {},
   "source": [
    "The only argument required for this method is the distribution of binary probabilities `df_masses_bprob['binar_prob']` obtained in the previous section via the [stellar_masses()](asteca.Synthetic.stellar_masses) method.\n",
    "\n",
    "The `bfr_med, bfr_std`  variables will store the median and STDDEV values for the total binary fraction estimate for the cluster."
   ]
  },
  {
   "cell_type": "markdown",
   "metadata": {},
   "source": [
    "## Cluster masses\n",
    "\n",
    "As explained in the [Mass and binarity](synthetic_mod) section, **ASteCA** estimates several different masses associated to an observed cluster. These are:\n",
    "\n",
    "- {math}`M_{init}`: total initial mass (at the moment of cluster's birth)\n",
    "- {math}`M_{actual}`: actual mass of the cluster (even the low mass portion we do not observe)\n",
    "- {math}`M_{obs}`: observed mass (sum of individual stellar masses)\n",
    "- {math}`M_{phot}`: mass **unobserved** due to photometric effects (i.e: the low mass stars beyond the maximum magnitude cut)\n",
    "- {math}`M_{evol}`: mass **lost** via stellar evolution\n",
    "- {math}`M_{dyn}`: mass **lost** through dynamical effects (or *dissolution*)\n",
    "\n",
    "This process is performed via the [cluster_masses()](asteca.Synthetic.cluster_masses) method:"
   ]
  },
  {
   "cell_type": "code",
   "execution_count": 16,
   "metadata": {},
   "outputs": [
    {
     "name": "stdout",
     "output_type": "stream",
     "text": [
      "\n",
      "Mass values estimated\n"
     ]
    }
   ],
   "source": [
    "masses_dict = synthcl.cluster_masses()"
   ]
  },
  {
   "cell_type": "markdown",
   "metadata": {},
   "source": [
    "The returned dictionary contains arrays with the distributions of masses for each mass described above. Their median and STDDEV values can be extracted for example with:"
   ]
  },
  {
   "cell_type": "code",
   "execution_count": 17,
   "metadata": {},
   "outputs": [
    {
     "name": "stdout",
     "output_type": "stream",
     "text": [
      "M_init  : 4312+/-696\n",
      "M_actual: 3167+/-327\n",
      "M_obs   : 2795+/-180\n",
      "M_phot  : 380+/-160\n",
      "M_evol  : 867+/-240\n",
      "M_dyn   : 307+/-188\n"
     ]
    }
   ],
   "source": [
    "# Print the median mass values and their STDDEVs\n",
    "for k, arr in masses_dict.items():\n",
    "    print(\"{:<8}: {:.0f}+/-{:.0f}\".format(k, np.median(arr), np.std(arr)))"
   ]
  }
 ],
 "metadata": {
  "execution": {
   "timeout": 90
  },
  "kernelspec": {
   "display_name": "Python 3 (ipykernel)",
   "language": "python",
   "name": "python3"
  },
  "language_info": {
   "codemirror_mode": {
    "name": "ipython",
    "version": 3
   },
   "file_extension": ".py",
   "mimetype": "text/x-python",
   "name": "python",
   "nbconvert_exporter": "python",
   "pygments_lexer": "ipython3",
   "version": "3.11.11"
  }
 },
 "nbformat": 4,
 "nbformat_minor": 4
}
